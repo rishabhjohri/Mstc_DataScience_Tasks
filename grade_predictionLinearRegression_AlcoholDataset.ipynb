{
 "cells": [
  {
   "cell_type": "code",
   "execution_count": 1,
   "metadata": {},
   "outputs": [],
   "source": [
    "import pandas as pd\n",
    "import numpy as np\n",
    "from sklearn.tree import DecisionTreeRegressor\n",
    "from sklearn.linear_model import LinearRegression, Lasso\n",
    "from sklearn.linear_model import Ridge\n",
    "from sklearn.model_selection import cross_val_score\n",
    "import scipy\n",
    "import matplotlib.pyplot as plt"
   ]
  },
  {
   "cell_type": "code",
   "execution_count": 2,
   "metadata": {},
   "outputs": [],
   "source": [
    "data1 = pd.read_csv(r\"C:\\Users\\Rishabh Johri\\Downloads\\student-alcohol-consumption\\student-mat.csv\",sep=\",\")\n",
    "data2 = pd.read_csv(r\"C:\\Users\\Rishabh Johri\\Downloads\\student-alcohol-consumption\\student-por.csv\",sep=\",\")\n",
    "data = [data1,data2]\n",
    "data=pd.concat(data)"
   ]
  },
  {
   "cell_type": "code",
   "execution_count": 3,
   "metadata": {},
   "outputs": [],
   "source": [
    "data=data.drop_duplicates([\"school\",\"sex\",\"age\",\"address\",\"famsize\",\"Pstatus\",\"Medu\",\"Fedu\",\"Mjob\",\"Fjob\",\"reason\",\"nursery\",\"internet\"])"
   ]
  },
  {
   "cell_type": "code",
   "execution_count": 4,
   "metadata": {},
   "outputs": [
    {
     "name": "stdout",
     "output_type": "stream",
     "text": [
      "G1\n",
      "NormaltestResult(statistic=18.735074390192455, pvalue=8.545358498523635e-05)\n",
      "----------\n",
      "G2\n",
      "NormaltestResult(statistic=32.32198566499538, pvalue=9.580098861050945e-08)\n",
      "----------\n",
      "G3\n",
      "NormaltestResult(statistic=73.59396661534839, pvalue=1.0453776212925763e-16)\n",
      "----------\n"
     ]
    }
   ],
   "source": [
    "grades=[\"G1\",\"G2\",\"G3\"]\n",
    "norm=[]\n",
    "for i in grades:\n",
    "    norm.append(scipy.stats.normaltest(data[i]))\n",
    "for i in range(0,len(grades)):\n",
    "    print(grades[i])\n",
    "    print(norm[i])\n",
    "    print('----------')"
   ]
  },
  {
   "cell_type": "code",
   "execution_count": 5,
   "metadata": {},
   "outputs": [
    {
     "data": {
      "image/png": "[encoded data removed]",
      "text/plain": [
       "<Figure size 432x288 with 3 Axes>"
      ]
     },
     "metadata": {
      "needs_background": "light"
     },
     "output_type": "display_data"
    }
   ],
   "source": [
    "i = 1\n",
    "for w in grades:\n",
    "    plt.subplot(3, 1, i)\n",
    "    plt.tight_layout()\n",
    "    i += 1\n",
    "    plt.hist(data[w])\n",
    "    plt.title(w)"
   ]
  },
  {
   "cell_type": "code",
   "execution_count": 6,
   "metadata": {},
   "outputs": [
    {
     "name": "stdout",
     "output_type": "stream",
     "text": [
      "G1 G2 --> 0.8414356603927251\n",
      "G1 G3 --> 0.7965691040425612\n",
      "G2 G1 --> 0.8414356603927251\n",
      "G2 G3 --> 0.9135480717310741\n",
      "G3 G1 --> 0.7965691040425612\n",
      "G3 G2 --> 0.9135480717310741\n"
     ]
    }
   ],
   "source": [
    "corr = data.corr()\n",
    "for a in corr.columns:\n",
    "    for b in corr.index:\n",
    "        if (a != b) and (abs(corr[a][b]) >= 0.75):\n",
    "            print(a,b,'-->',corr[a][b])"
   ]
  },
  {
   "cell_type": "code",
   "execution_count": 7,
   "metadata": {},
   "outputs": [
    {
     "name": "stdout",
     "output_type": "stream",
     "text": [
      "Models performance in: G3\n",
      "------------------------\n",
      "DecisionTreeRegressor: -0.9594361226229834\n",
      "LinearRegression: -0.08540573656473485\n",
      "Ridge: -0.08312185996996861\n",
      "Lasso: -0.0713203347237984\n",
      "\n",
      "\n",
      "Models performance in: G2\n",
      "------------------------\n",
      "DecisionTreeRegressor: -1.1179795898764504\n",
      "LinearRegression: 0.020267454904427273\n",
      "Ridge: 0.022081636750409417\n",
      "Lasso: -0.04571518781629256\n",
      "\n",
      "\n",
      "Models performance in: G1\n",
      "------------------------\n",
      "DecisionTreeRegressor: -1.0531904178779805\n",
      "LinearRegression: 0.06854822370337817\n",
      "Ridge: 0.07020653872084662\n",
      "Lasso: -0.05529239366709846\n",
      "\n",
      "\n"
     ]
    }
   ],
   "source": [
    "def regression_explore(y,drop):\n",
    "    Y = data[y]\n",
    "    X = data.drop(drop, axis=1)\n",
    "    X = pd.get_dummies(X)\n",
    "\n",
    "    names = ['DecisionTreeRegressor', 'LinearRegression', 'Ridge', 'Lasso']\n",
    "\n",
    "    clf_list = [DecisionTreeRegressor(),\n",
    "            LinearRegression(),\n",
    "            Ridge(),\n",
    "            Lasso()]\n",
    "            \n",
    "    print('Models performance in: ' + str(y))\n",
    "    print('------------------------')\n",
    "    for name, clf in zip(names, clf_list):\n",
    "        print(name, end=': ')\n",
    "        print(cross_val_score(clf, X, Y, cv=5).mean())\n",
    "        \n",
    "a = ['G3','G2','G1']\n",
    "for i in a:\n",
    "    regression_explore(i, a)\n",
    "    print('\\n')"
   ]
  },
  {
   "cell_type": "code",
   "execution_count": 8,
   "metadata": {},
   "outputs": [
    {
     "name": "stdout",
     "output_type": "stream",
     "text": [
      "Models performance in: G2\n",
      "------------------------\n",
      "DecisionTreeRegressor: 0.6877918079113174\n",
      "LinearRegression: 0.8347498958365043\n",
      "Ridge: 0.8350908285689634\n",
      "Lasso: 0.843387346555085\n",
      "\n",
      "\n",
      "Models performance in: G3\n",
      "------------------------\n",
      "DecisionTreeRegressor: 0.5477683514173345\n",
      "LinearRegression: 0.7976586396449088\n",
      "Ridge: 0.7981603009432572\n",
      "Lasso: 0.8245934862825953\n",
      "\n",
      "\n"
     ]
    }
   ],
   "source": [
    "variables_explore = ['G2','G3']\n",
    "for b in variables_explore:\n",
    "    regression_explore(b,b)\n",
    "    print('\\n')"
   ]
  },
  {
   "cell_type": "code",
   "execution_count": 9,
   "metadata": {},
   "outputs": [
    {
     "name": "stdout",
     "output_type": "stream",
     "text": [
      "Mean squared error: 3.63\n",
      "Variance score: 0.71\n"
     ]
    },
    {
     "data": {
      "image/png": "[encoded data removed]",
      "text/plain": [
       "<Figure size 432x288 with 1 Axes>"
      ]
     },
     "metadata": {
      "needs_background": "light"
     },
     "output_type": "display_data"
    }
   ],
   "source": [
    "y = data['G2']\n",
    "X = data['G1']\n",
    "X = pd.DataFrame(X)\n",
    "y = pd.DataFrame(y)\n",
    "linreg = LinearRegression()\n",
    "linreg.fit(X,y)\n",
    "y_pred = linreg.predict(X)\n",
    "fig = plt.figure()\n",
    "plt.scatter(X,y, color='black', alpha=.1)\n",
    "fig.suptitle('Relatinship Grades G1 - Grades G2', fontsize=12)\n",
    "plt.xlabel('Grades G1', fontsize=12)\n",
    "plt.ylabel('Grades G2', fontsize=12)\n",
    "plt.xlim(0, 20)\n",
    "plt.ylim(0, 20)\n",
    "plt.plot(X,y_pred, color='red')\n",
    "\n",
    "print(\"Mean squared error: %.2f\"\n",
    "      % np.mean((linreg.predict(X) - y) ** 2))\n",
    "\n",
    "print('Variance score: %.2f' % linreg.score(X, y))"
   ]
  },
  {
   "cell_type": "code",
   "execution_count": 10,
   "metadata": {},
   "outputs": [
    {
     "name": "stdout",
     "output_type": "stream",
     "text": [
      "Mean squared error: 2.79\n",
      "Variance score: 0.83\n"
     ]
    },
    {
     "data": {
      "image/png": "[encoded data removed]",
      "text/plain": [
       "<Figure size 432x288 with 1 Axes>"
      ]
     },
     "metadata": {
      "needs_background": "light"
     },
     "output_type": "display_data"
    }
   ],
   "source": [
    "y = data['G3']\n",
    "X = data['G2']\n",
    "X = pd.DataFrame(X)\n",
    "y = pd.DataFrame(y)\n",
    "linreg = LinearRegression()\n",
    "linreg.fit(X,y)\n",
    "y_pred = linreg.predict(X)\n",
    "fig = plt.figure()\n",
    "plt.scatter(X,y, color='black', alpha=.1)\n",
    "fig.suptitle('Relatinship Grades G2 - Grades G3', fontsize=12)\n",
    "plt.xlabel('Grades G2', fontsize=12)\n",
    "plt.ylabel('Grades G3', fontsize=12)\n",
    "plt.xlim(0, 20)\n",
    "plt.ylim(0, 20)\n",
    "plt.plot(X,y_pred, color='red')\n",
    "\n",
    "print(\"Mean squared error: %.2f\"\n",
    "      % np.mean((linreg.predict(X) - y) ** 2))\n",
    "\n",
    "print('Variance score: %.2f' % linreg.score(X, y))"
   ]
  },
  {
   "cell_type": "code",
   "execution_count": null,
   "metadata": {},
   "outputs": [],
   "source": []
  }
 ],
 "metadata": {
  "kernelspec": {
   "display_name": "Python 3",
   "language": "python",
   "name": "python3"
  },
  "language_info": {
   "codemirror_mode": {
    "name": "ipython",
    "version": 3
   },
   "file_extension": ".py",
   "mimetype": "text/x-python",
   "name": "python",
   "nbconvert_exporter": "python",
   "pygments_lexer": "ipython3",
   "version": "3.7.3"
  }
 },
 "nbformat": 4,
 "nbformat_minor": 2
}
